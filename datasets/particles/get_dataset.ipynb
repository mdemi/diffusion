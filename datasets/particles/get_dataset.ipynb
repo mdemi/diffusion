{
 "cells": [
  {
   "cell_type": "markdown",
   "metadata": {},
   "source": [
    "# Particle Images\n",
    "\n",
    "This notebook downloads a dataset containing images of the 2D projections of the energy deposition patterns of four types of particles (electrons, photons, muons and protons) simulated in liquid argon medium. \n",
    "\n",
    "The dataset is taken from the 51st SLAC Summer Institute (SSI 2023). For more information see\n",
    "https://indico.slac.stanford.edu/event/7540/\n",
    "\n",
    "For the project containing this particular dataset see\n",
    "https://github.com/makagan/SSI_Projects/tree/main/if_projects"
   ]
  },
  {
   "cell_type": "code",
   "execution_count": 2,
   "metadata": {},
   "outputs": [
    {
     "name": "stdout",
     "output_type": "stream",
     "text": [
      "Downloading...\n",
      "From (uriginal): https://drive.google.com/uc?id=130Lm_4K2cCclnmOEZlVIBKKPkJUn3k3f\n",
      "From (redirected): https://drive.google.com/uc?id=130Lm_4K2cCclnmOEZlVIBKKPkJUn3k3f&confirm=t&uuid=ebafb63a-b509-4df3-9101-5300dded1d5d\n",
      "To: /home/md775/LocalStorage/MLProjects/Diffusion/Datasets/IntensityFrontier/get_dataset/if-image-train.h5\n",
      "100%|████████████████████████████████████████| 550M/550M [01:01<00:00, 9.00MB/s]\n"
     ]
    }
   ],
   "source": [
    "! download_if_dataset.py --challenge=image --flavor=train"
   ]
  },
  {
   "cell_type": "code",
   "execution_count": null,
   "metadata": {},
   "outputs": [],
   "source": []
  }
 ],
 "metadata": {
  "kernelspec": {
   "display_name": "torch",
   "language": "python",
   "name": "python3"
  },
  "language_info": {
   "codemirror_mode": {
    "name": "ipython",
    "version": 3
   },
   "file_extension": ".py",
   "mimetype": "text/x-python",
   "name": "python",
   "nbconvert_exporter": "python",
   "pygments_lexer": "ipython3",
   "version": "3.11.6"
  }
 },
 "nbformat": 4,
 "nbformat_minor": 2
}
