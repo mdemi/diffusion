{
 "cells": [
  {
   "cell_type": "markdown",
   "metadata": {},
   "source": [
    "# 2D Fine Regular Triangulations\n",
    "\n",
    "This notebook generates a dataset of fine and regular triangulations of an 8x8 grid using CYTools, see https://cy.tools/ for installation instructions.\n",
    "\n",
    "Regular triangulations in higher dimensions play a crucial role in constructing Calabi-Yau manifolds and the associated solutions of string theory. \n",
    "\n",
    "A triangulation of a set of points is called 'fine' if every point is included in the triangulation. \n",
    "\n",
    "This is a toy dataset of such triangulations in two dimensions. For more information on fine and regular triangulations and their importance for quantum gravity see e.g. https://arxiv.org/abs/2211.03823 or https://arxiv.org/abs/2008.01730.\n",
    "\n"
   ]
  },
  {
   "cell_type": "code",
   "execution_count": null,
   "metadata": {},
   "outputs": [],
   "source": [
    "! chmod +x ./generate_dataset.sh\n",
    "! docker run --rm -it --name cytools-uid-$UID -v ./:/home/cytools/mounted_volume -p $(($UID+2875)):$(($UID+2875)) cytools:uid-$UID ./generate_dataset.sh"
   ]
  }
 ],
 "metadata": {
  "kernelspec": {
   "display_name": "torch",
   "language": "python",
   "name": "python3"
  },
  "language_info": {
   "codemirror_mode": {
    "name": "ipython",
    "version": 3
   },
   "file_extension": ".py",
   "mimetype": "text/x-python",
   "name": "python",
   "nbconvert_exporter": "python",
   "pygments_lexer": "ipython3",
   "version": "3.11.6"
  }
 },
 "nbformat": 4,
 "nbformat_minor": 2
}
